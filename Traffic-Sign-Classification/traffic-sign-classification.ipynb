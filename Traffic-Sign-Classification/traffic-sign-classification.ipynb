{
 "cells": [
  {
   "cell_type": "code",
   "execution_count": 181,
   "metadata": {
    "collapsed": true
   },
   "outputs": [],
   "source": [
    "import pickle\n",
    "import numpy as np\n",
    "import math\n",
    "from IPython.display import display\n",
    "from PIL import Image\n",
    "import pandas as pd\n",
    "import matplotlib.pyplot as plt"
   ]
  },
  {
   "cell_type": "code",
   "execution_count": 182,
   "metadata": {},
   "outputs": [
    {
     "name": "stdout",
     "output_type": "stream",
     "text": [
      "X_train shape: (39209, 32, 32, 3)\n",
      "Y_train shape: (39209,)\n",
      "Number of training data: 39209\n",
      "Image shape: (32, 32, 3)\n",
      "Number of classes: 43\n"
     ]
    }
   ],
   "source": [
    "# loading pickled dataset\n",
    "with open('train.p', 'rb') as f:\n",
    "    data = pickle.load(f)\n",
    "\n",
    "# Load the feature data to the variable X_train  \n",
    "# Load the label data to the variable Y_train\n",
    "X_train, Y_train = data['features'], data['labels']\n",
    "\n",
    "# 'features' is a 4D array containing raw pixel data of the traffic sign images, \n",
    "# (num examples, width, height, channels).\n",
    "print ('X_train shape: {}'.format(X_train.shape))\n",
    "# 'labels' is a 2D array containing the label/class id of the traffic sign. \n",
    "print ('Y_train shape: {}'.format(Y_train.shape))\n",
    "# number of training set\n",
    "print ('Number of training data: {}'.format(len(X_train)))\n",
    "# showing image shape\n",
    "print ('Image shape: {}'.format(X_train.shape[1:]))\n",
    "# number of class\n",
    "print ('Number of classes: {}'.format(len(set(Y_train))))\n"
   ]
  },
  {
   "cell_type": "code",
   "execution_count": 183,
   "metadata": {},
   "outputs": [
    {
     "data": {
      "image/png": "[encoded data removed]",
      "text/plain": [
       "<matplotlib.figure.Figure at 0x7f85d24cfeb8>"
      ]
     },
     "metadata": {},
     "output_type": "display_data"
    }
   ],
   "source": [
    "# Visualizing dataset\n",
    "plt.subplot(1, 2, 1)\n",
    "plt.imshow(X_train[0])\n",
    "plt.title('{}'.format(Y_train[0]))\n",
    "plt.subplot(1, 2, 2)\n",
    "plt.imshow(X_train[39208])\n",
    "plt.title('{}'.format(Y_train[39208]))\n",
    "plt.show()"
   ]
  },
  {
   "cell_type": "code",
   "execution_count": 184,
   "metadata": {},
   "outputs": [
    {
     "data": {
      "text/html": [
       "<div>\n",
       "<table border=\"1\" class=\"dataframe\">\n",
       "  <thead>\n",
       "    <tr style=\"text-align: right;\">\n",
       "      <th></th>\n",
       "      <th>ClassId</th>\n",
       "      <th>SignName</th>\n",
       "    </tr>\n",
       "  </thead>\n",
       "  <tbody>\n",
       "    <tr>\n",
       "      <th>0</th>\n",
       "      <td>0</td>\n",
       "      <td>Speed limit (20km/h)</td>\n",
       "    </tr>\n",
       "    <tr>\n",
       "      <th>1</th>\n",
       "      <td>1</td>\n",
       "      <td>Speed limit (30km/h)</td>\n",
       "    </tr>\n",
       "    <tr>\n",
       "      <th>2</th>\n",
       "      <td>2</td>\n",
       "      <td>Speed limit (50km/h)</td>\n",
       "    </tr>\n",
       "    <tr>\n",
       "      <th>3</th>\n",
       "      <td>3</td>\n",
       "      <td>Speed limit (60km/h)</td>\n",
       "    </tr>\n",
       "    <tr>\n",
       "      <th>4</th>\n",
       "      <td>4</td>\n",
       "      <td>Speed limit (70km/h)</td>\n",
       "    </tr>\n",
       "  </tbody>\n",
       "</table>\n",
       "</div>"
      ],
      "text/plain": [
       "   ClassId              SignName\n",
       "0        0  Speed limit (20km/h)\n",
       "1        1  Speed limit (30km/h)\n",
       "2        2  Speed limit (50km/h)\n",
       "3        3  Speed limit (60km/h)\n",
       "4        4  Speed limit (70km/h)"
      ]
     },
     "metadata": {},
     "output_type": "display_data"
    },
    {
     "name": "stdout",
     "output_type": "stream",
     "text": [
      "0    Speed limit (20km/h)\n",
      "1    Speed limit (30km/h)\n",
      "2    Speed limit (50km/h)\n",
      "3    Speed limit (60km/h)\n",
      "4    Speed limit (70km/h)\n",
      "Name: SignName, dtype: object\n"
     ]
    }
   ],
   "source": [
    "\n",
    "label_file = 'signnames.csv'\n",
    "label = pd.read_csv(label_file)\n",
    "display(label.head())\n",
    "ClassId = label['ClassId']\n",
    "SignName = label['SignName']\n",
    "print (SignName.head())\n"
   ]
  },
  {
   "cell_type": "code",
   "execution_count": 185,
   "metadata": {},
   "outputs": [
    {
     "name": "stdout",
     "output_type": "stream",
     "text": [
      "Data shape tests passed.\n"
     ]
    }
   ],
   "source": [
    "# Making sure to pass these tests. \n",
    "assert np.array_equal(X_train, data['features']), 'X_train not set to data[\\'features\\'].'\n",
    "assert np.array_equal(Y_train, data['labels']), 'Y_train not set to data[\\'labels\\'].'\n",
    "print('Data shape tests passed.')"
   ]
  },
  {
   "cell_type": "code",
   "execution_count": 186,
   "metadata": {
    "collapsed": true
   },
   "outputs": [],
   "source": [
    "# Shuffle the data\n",
    "from sklearn.utils import shuffle\n",
    "X_train, Y_train = shuffle(X_train, Y_train)"
   ]
  },
  {
   "cell_type": "code",
   "execution_count": 187,
   "metadata": {},
   "outputs": [
    {
     "data": {
      "image/png": "[encoded data removed]",
      "text/plain": [
       "<matplotlib.figure.Figure at 0x7f85d50f8b70>"
      ]
     },
     "metadata": {},
     "output_type": "display_data"
    },
    {
     "name": "stdout",
     "output_type": "stream",
     "text": [
      "Data shuffling tests passed.\n"
     ]
    }
   ],
   "source": [
    "# Checking training data shape and whether the data is shuffled. \n",
    "assert X_train.shape == data['features'].shape, 'X_train has changed shape. The shape shouldn\\'t change when shuffling.'\n",
    "assert Y_train.shape == data['labels'].shape, 'Y_train has changed shape. The shape shouldn\\'t change when shuffling.'\n",
    "assert not np.array_equal(X_train, data['features']), 'X_train not shuffled.'\n",
    "assert not np.array_equal(Y_train, data['labels']), 'Y_train not shuffled.'\n",
    "# visualize shuffled data\n",
    "plt.subplot(1, 2, 1)\n",
    "plt.imshow(X_train[0])\n",
    "plt.title('{}'.format(Y_train[0]))\n",
    "plt.subplot(1, 2, 2)\n",
    "plt.imshow(X_train[39208])\n",
    "plt.title('{}'.format(Y_train[39208]))\n",
    "plt.show()\n",
    "print('Data shuffling tests passed.')"
   ]
  },
  {
   "cell_type": "code",
   "execution_count": 188,
   "metadata": {},
   "outputs": [
    {
     "data": {
      "image/png": "[encoded data removed]",
      "text/plain": [
       "<matplotlib.figure.Figure at 0x7f8594c67cc0>"
      ]
     },
     "metadata": {},
     "output_type": "display_data"
    }
   ],
   "source": [
    "# Implement Min-Max scaling in the normalize() function to a range of a = -0.5 and b = 0.5. \n",
    "# After scaling, the values of the pixels in the input data should range from -0.5 to 0.5.\n",
    "\n",
    "def normalize_grayscale(image_data):\n",
    "    a = -0.5\n",
    "    b = 0.5\n",
    "    grayscale_min = 0\n",
    "    grayscale_max = 255\n",
    "    return a + ( ( (image_data - grayscale_min)*(b - a) )/( grayscale_max - grayscale_min ) )\n",
    "\n",
    "X_normalized = normalize_grayscale(X_train)\n",
    "# plot normalized data\n",
    "plt.subplot(1, 2, 1)\n",
    "plt.imshow(X_normalized[0])\n",
    "plt.title('{}'.format(Y_train[0]))\n",
    "plt.subplot(1, 2, 2)\n",
    "plt.imshow(X_normalized[39208])\n",
    "plt.title('{}'.format(Y_train[39208]))\n",
    "plt.show()\n"
   ]
  },
  {
   "cell_type": "code",
   "execution_count": 18,
   "metadata": {},
   "outputs": [
    {
     "name": "stdout",
     "output_type": "stream",
     "text": [
      "Normalization tests passed.\n"
     ]
    }
   ],
   "source": [
    "# Check if data is normalized to range -0.5 to 0.5\n",
    "assert math.isclose(np.min(X_normalized), -0.5, abs_tol=1e-5) and math.isclose(np.max(X_normalized), 0.5, abs_tol=1e-5), 'The range of the training data is: {} to {}.  It must be -0.5 to 0.5'.format(np.min(X_normalized), np.max(X_normalized))\n",
    "print('Normalization tests passed.')"
   ]
  },
  {
   "cell_type": "code",
   "execution_count": 19,
   "metadata": {},
   "outputs": [
    {
     "data": {
      "text/plain": [
       "array([0, 0, 0, 0, 0, 0, 0, 0, 0, 0, 0, 0, 0, 0, 0, 0, 0, 0, 0, 0, 0, 0, 0,\n",
       "       0, 0, 1, 0, 0, 0, 0, 0, 0, 0, 0, 0, 0, 0, 0, 0, 0, 0, 0, 0])"
      ]
     },
     "metadata": {},
     "output_type": "display_data"
    },
    {
     "data": {
      "text/plain": [
       "array([0, 0, 0, 0, 1, 0, 0, 0, 0, 0, 0, 0, 0, 0, 0, 0, 0, 0, 0, 0, 0, 0, 0,\n",
       "       0, 0, 0, 0, 0, 0, 0, 0, 0, 0, 0, 0, 0, 0, 0, 0, 0, 0, 0, 0])"
      ]
     },
     "metadata": {},
     "output_type": "display_data"
    }
   ],
   "source": [
    "# One-Hot encode the labels to the variable y_one_hot\n",
    "from sklearn.preprocessing import LabelBinarizer\n",
    "label_binarizer = LabelBinarizer()\n",
    "y_one_hot = label_binarizer.fit_transform(Y_train)\n",
    "display(y_one_hot[0])\n",
    "display(y_one_hot[39208])"
   ]
  },
  {
   "cell_type": "code",
   "execution_count": 20,
   "metadata": {},
   "outputs": [
    {
     "name": "stdout",
     "output_type": "stream",
     "text": [
      "ONE-HOT encoding tests passed.\n"
     ]
    }
   ],
   "source": [
    "# Checking ONE-HOT shape\n",
    "import collections\n",
    "assert y_one_hot.shape == (39209, 43), 'y_one_hot is not the correct shape.  It\\'s {}, it should be (39209, 43)'.format(y_one_hot.shape)\n",
    "assert next((False for y in y_one_hot if collections.Counter(y) != {0: 42, 1: 1}), True), 'y_one_hot not one-hot encoded.'\n",
    "print('ONE-HOT encoding tests passed.')"
   ]
  },
  {
   "cell_type": "code",
   "execution_count": 46,
   "metadata": {},
   "outputs": [
    {
     "name": "stdout",
     "output_type": "stream",
     "text": [
      "5 layers total\n",
      "____________________________________________________________________________________________________\n",
      "Layer (type)                     Output Shape          Param #     Connected to                     \n",
      "====================================================================================================\n",
      "flatten_13 (Flatten)             (None, 3072)          0           flatten_input_5[0][0]            \n",
      "____________________________________________________________________________________________________\n",
      "dense_25 (Dense)                 (None, 128)           393344      flatten_13[0][0]                 \n",
      "____________________________________________________________________________________________________\n",
      "activation_33 (Activation)       (None, 128)           0           dense_25[0][0]                   \n",
      "____________________________________________________________________________________________________\n",
      "dense_26 (Dense)                 (None, 43)            5547        activation_33[0][0]              \n",
      "____________________________________________________________________________________________________\n",
      "activation_34 (Activation)       (None, 43)            0           dense_26[0][0]                   \n",
      "====================================================================================================\n",
      "Total params: 398,891\n",
      "Trainable params: 398,891\n",
      "Non-trainable params: 0\n",
      "____________________________________________________________________________________________________\n"
     ]
    }
   ],
   "source": [
    "from keras.models import Sequential\n",
    "model = Sequential()\n",
    "# Build a Multi-layer feedforward neural network with Keras here.\n",
    "from keras.models import Sequential\n",
    "from keras.layers.core import Dense, Activation, Flatten\n",
    "from keras.activations import relu, softmax\n",
    "\n",
    "# Set the first layer to a Flatten layer with the input_shape set to (32, 32, 3)\n",
    "model.add(Flatten(input_shape=(32, 32, 3)))\n",
    "# Set the second layer to Dense layer width to 128 output.\n",
    "model.add(Dense(128))\n",
    "# Use a ReLU activation function after the second layer.\n",
    "model.add(Activation('relu'))\n",
    "# Set the output layer width to 43, since there are 43 classes in the dataset.\n",
    "model.add(Dense(43))\n",
    "# Use a softmax activation function after the output layer.\n",
    "model.add(Activation('softmax'))\n",
    "\n",
    "print ('{} layers total'.format(len(model.layers)))\n",
    "model.summary()"
   ]
  },
  {
   "cell_type": "code",
   "execution_count": 47,
   "metadata": {},
   "outputs": [
    {
     "name": "stdout",
     "output_type": "stream",
     "text": [
      "Keras layers tests passed.\n"
     ]
    }
   ],
   "source": [
    "# Checking Keras layers\n",
    "\n",
    "def check_layers(layers, true_layers):\n",
    "    assert len(true_layers) != 0, 'No layers found'\n",
    "    for layer_i in range(len(layers)):\n",
    "        assert isinstance(true_layers[layer_i], layers[layer_i]), 'Layer {} is not a {} layer'.format(layer_i+1, layers[layer_i].__name__)\n",
    "    assert len(true_layers) == len(layers), '{} layers found, should be {} layers'.format(len(true_layers), len(layers))\n",
    "\n",
    "check_layers([Flatten, Dense, Activation, Dense, Activation], model.layers)\n",
    "\n",
    "assert model.layers[0].input_shape == (None, 32, 32, 3), 'First layer input shape is wrong, it should be (32, 32, 3)'\n",
    "assert model.layers[1].output_shape == (None, 128), 'Second layer output is wrong, it should be (128)'\n",
    "assert model.layers[2].activation == relu, 'Third layer not a relu activation layer'\n",
    "assert model.layers[3].output_shape == (None, 43), 'Fourth layer output is wrong, it should be (43)'\n",
    "assert model.layers[4].activation == softmax, 'Fifth layer not a softmax activation layer'\n",
    "print('Keras layers tests passed.')"
   ]
  },
  {
   "cell_type": "code",
   "execution_count": 48,
   "metadata": {},
   "outputs": [
    {
     "name": "stdout",
     "output_type": "stream",
     "text": [
      "Train on 31367 samples, validate on 7842 samples\n",
      "Epoch 1/10\n",
      "1s - loss: 1.7588 - acc: 0.5404 - val_loss: 1.2869 - val_acc: 0.6144\n",
      "Epoch 2/10\n",
      "0s - loss: 0.8690 - acc: 0.7741 - val_loss: 0.8322 - val_acc: 0.7451\n",
      "Epoch 3/10\n",
      "0s - loss: 0.6089 - acc: 0.8428 - val_loss: 0.5887 - val_acc: 0.8373\n",
      "Epoch 4/10\n",
      "0s - loss: 0.4916 - acc: 0.8724 - val_loss: 0.5006 - val_acc: 0.8643\n",
      "Epoch 5/10\n",
      "0s - loss: 0.4026 - acc: 0.8987 - val_loss: 0.6775 - val_acc: 0.8143\n",
      "Epoch 6/10\n",
      "0s - loss: 0.3764 - acc: 0.9010 - val_loss: 0.4642 - val_acc: 0.8582\n",
      "Epoch 7/10\n",
      "0s - loss: 0.3233 - acc: 0.9152 - val_loss: 0.3305 - val_acc: 0.9259\n",
      "Epoch 8/10\n",
      "0s - loss: 0.2830 - acc: 0.9269 - val_loss: 0.6268 - val_acc: 0.8013\n",
      "Epoch 9/10\n",
      "0s - loss: 0.2812 - acc: 0.9240 - val_loss: 0.5368 - val_acc: 0.8500\n",
      "Epoch 10/10\n",
      "0s - loss: 0.2628 - acc: 0.9295 - val_loss: 0.3606 - val_acc: 0.8949\n"
     ]
    }
   ],
   "source": [
    "# Compile the network using adam optimizer and categorical_crossentropy loss function\n",
    "model.compile('adam', 'categorical_crossentropy', ['accuracy'])\n",
    "\n",
    "# Train the network for ten epochs and validate with 20% of the training data.\n",
    "history = model.fit(X_normalized, y_one_hot, batch_size=128, nb_epoch=10, validation_split=0.2, verbose=2)"
   ]
  },
  {
   "cell_type": "code",
   "execution_count": 49,
   "metadata": {},
   "outputs": [
    {
     "name": "stdout",
     "output_type": "stream",
     "text": [
      "acc = 0.9295437880575127\n",
      "val_acc = 0.8949247642580085\n",
      "Tests passed.\n"
     ]
    }
   ],
   "source": [
    "from keras.optimizers import Adam\n",
    "\n",
    "assert model.loss == 'categorical_crossentropy', 'Not using categorical_crossentropy loss function'\n",
    "assert isinstance(model.optimizer, Adam), 'Not using adam optimizer'\n",
    "assert len(history.history['acc']) == 10, 'You\\'re using {} epochs when you need to use 10 epochs.'.format(len(history.history['acc']))\n",
    "\n",
    "assert history.history['acc'][-1] > 0.92, 'The training accuracy was: %.3f. It shoud be greater than 0.92' % history.history['acc'][-1]\n",
    "assert history.history['val_acc'][-1] > 0.85, 'The validation accuracy is: %.3f. It shoud be greater than 0.85' % history.history['val_acc'][-1]\n",
    "print('acc = {}'.format(history.history['acc'][-1]))\n",
    "print('val_acc = {}'.format(history.history['val_acc'][-1]))\n",
    "print('Tests passed.')"
   ]
  },
  {
   "cell_type": "code",
   "execution_count": 50,
   "metadata": {},
   "outputs": [
    {
     "name": "stdout",
     "output_type": "stream",
     "text": [
      "7 layers total\n",
      "____________________________________________________________________________________________________\n",
      "Layer (type)                     Output Shape          Param #     Connected to                     \n",
      "====================================================================================================\n",
      "convolution2d_9 (Convolution2D)  (None, 30, 30, 32)    896         convolution2d_input_9[0][0]      \n",
      "____________________________________________________________________________________________________\n",
      "activation_35 (Activation)       (None, 30, 30, 32)    0           convolution2d_9[0][0]            \n",
      "____________________________________________________________________________________________________\n",
      "flatten_14 (Flatten)             (None, 28800)         0           activation_35[0][0]              \n",
      "____________________________________________________________________________________________________\n",
      "dense_27 (Dense)                 (None, 128)           3686528     flatten_14[0][0]                 \n",
      "____________________________________________________________________________________________________\n",
      "activation_36 (Activation)       (None, 128)           0           dense_27[0][0]                   \n",
      "____________________________________________________________________________________________________\n",
      "dense_28 (Dense)                 (None, 43)            5547        activation_36[0][0]              \n",
      "____________________________________________________________________________________________________\n",
      "activation_37 (Activation)       (None, 43)            0           dense_28[0][0]                   \n",
      "====================================================================================================\n",
      "Total params: 3,692,971\n",
      "Trainable params: 3,692,971\n",
      "Non-trainable params: 0\n",
      "____________________________________________________________________________________________________\n"
     ]
    }
   ],
   "source": [
    "# Re-construct the network\n",
    "from keras.models import Sequential\n",
    "from keras.layers.core import Dense, Activation, Flatten\n",
    "from keras.layers.convolutional import Convolution2D\n",
    "\n",
    "model = Sequential()\n",
    "# Add a convolutional layer with 32 filters, a 3x3 kernel, and valid padding before the flatten layer.\n",
    "model.add(Convolution2D(32, 3, 3, input_shape=(32, 32, 3)))\n",
    "# Add a ReLU activation after the convolutional layer.\n",
    "model.add(Activation('relu'))\n",
    "model.add(Flatten())\n",
    "model.add(Dense(128))\n",
    "model.add(Activation('relu'))\n",
    "model.add(Dense(43))\n",
    "model.add(Activation('softmax'))\n",
    "print ('{} layers total'.format(len(model.layers)))\n",
    "model.summary()"
   ]
  },
  {
   "cell_type": "code",
   "execution_count": 51,
   "metadata": {},
   "outputs": [
    {
     "name": "stdout",
     "output_type": "stream",
     "text": [
      "Train on 31367 samples, validate on 7842 samples\n",
      "Epoch 1/2\n",
      "3s - loss: 1.1429 - acc: 0.7068 - val_loss: 0.4471 - val_acc: 0.8897\n",
      "Epoch 2/2\n",
      "3s - loss: 0.2833 - acc: 0.9317 - val_loss: 0.2721 - val_acc: 0.9234\n",
      "acc = 0.9317116715018969\n",
      "val_acc = 0.9233613874163745\n",
      "Keras layers tests passed.\n"
     ]
    }
   ],
   "source": [
    "# check Keras layers again\n",
    "\n",
    "check_layers([Convolution2D, Activation, Flatten, Dense, Activation, Dense, Activation], model.layers)\n",
    "\n",
    "assert model.layers[0].input_shape == (None, 32, 32, 3), 'First layer input shape is wrong, it should be (32, 32, 3)'\n",
    "assert model.layers[0].nb_filter == 32, 'Wrong number of filters, it should be 32'\n",
    "assert model.layers[0].nb_col == model.layers[0].nb_row == 3, 'Kernel size is wrong, it should be a 3x3'\n",
    "assert model.layers[0].border_mode == 'valid', 'Wrong padding, it should be valid'\n",
    "\n",
    "model.compile('adam', 'categorical_crossentropy', ['accuracy'])\n",
    "history = model.fit(X_normalized, y_one_hot, batch_size=128, nb_epoch=2, validation_split=0.2, verbose=2)\n",
    "assert(history.history['val_acc'][-1] > 0.91), \"The validation accuracy is: %.3f.  It should be greater than 0.91\" % history.history['val_acc'][-1]\n",
    "print('acc = {}'.format(history.history['acc'][-1]))\n",
    "print('val_acc = {}'.format(history.history['val_acc'][-1]))\n",
    "print('Keras layers tests passed.')"
   ]
  },
  {
   "cell_type": "code",
   "execution_count": 52,
   "metadata": {},
   "outputs": [
    {
     "name": "stdout",
     "output_type": "stream",
     "text": [
      "8 layers total\n",
      "____________________________________________________________________________________________________\n",
      "Layer (type)                     Output Shape          Param #     Connected to                     \n",
      "====================================================================================================\n",
      "convolution2d_10 (Convolution2D) (None, 30, 30, 32)    896         convolution2d_input_10[0][0]     \n",
      "____________________________________________________________________________________________________\n",
      "maxpooling2d_6 (MaxPooling2D)    (None, 15, 15, 32)    0           convolution2d_10[0][0]           \n",
      "____________________________________________________________________________________________________\n",
      "activation_38 (Activation)       (None, 15, 15, 32)    0           maxpooling2d_6[0][0]             \n",
      "____________________________________________________________________________________________________\n",
      "flatten_15 (Flatten)             (None, 7200)          0           activation_38[0][0]              \n",
      "____________________________________________________________________________________________________\n",
      "dense_29 (Dense)                 (None, 128)           921728      flatten_15[0][0]                 \n",
      "____________________________________________________________________________________________________\n",
      "activation_39 (Activation)       (None, 128)           0           dense_29[0][0]                   \n",
      "____________________________________________________________________________________________________\n",
      "dense_30 (Dense)                 (None, 43)            5547        activation_39[0][0]              \n",
      "____________________________________________________________________________________________________\n",
      "activation_40 (Activation)       (None, 43)            0           dense_30[0][0]                   \n",
      "====================================================================================================\n",
      "Total params: 928,171\n",
      "Trainable params: 928,171\n",
      "Non-trainable params: 0\n",
      "____________________________________________________________________________________________________\n"
     ]
    }
   ],
   "source": [
    "from keras.layers.pooling import MaxPooling2D\n",
    "model = Sequential()\n",
    "model.add(Convolution2D(32, 3, 3, input_shape=(32, 32, 3)))\n",
    "# Add a 2x2 max pooling layer following the convolutional layer.\n",
    "model.add(MaxPooling2D((2, 2)))\n",
    "model.add(Activation('relu'))\n",
    "model.add(Flatten())\n",
    "model.add(Dense(128))\n",
    "model.add(Activation('relu'))\n",
    "model.add(Dense(43))\n",
    "model.add(Activation('softmax'))\n",
    "print ('{} layers total'.format(len(model.layers)))\n",
    "model.summary()"
   ]
  },
  {
   "cell_type": "code",
   "execution_count": 53,
   "metadata": {},
   "outputs": [
    {
     "name": "stdout",
     "output_type": "stream",
     "text": [
      "Train on 31367 samples, validate on 7842 samples\n",
      "Epoch 1/2\n",
      "2s - loss: 1.4269 - acc: 0.6333 - val_loss: 0.6694 - val_acc: 0.8082\n",
      "Epoch 2/2\n",
      "2s - loss: 0.3865 - acc: 0.9082 - val_loss: 0.3519 - val_acc: 0.9144\n",
      "acc = 0.9081837600025504\n",
      "val_acc = 0.9144350932557131\n",
      "Keras layers tests passed.\n"
     ]
    }
   ],
   "source": [
    "\n",
    "check_layers([Convolution2D, MaxPooling2D, Activation, Flatten, Dense, Activation, Dense, Activation], model.layers)\n",
    "assert model.layers[1].pool_size == (2, 2), 'Second layer must be a max pool layer with pool size of 2x2'\n",
    "\n",
    "model.compile('adam', 'categorical_crossentropy', ['accuracy'])\n",
    "history = model.fit(X_normalized, y_one_hot, batch_size=128, nb_epoch=2, validation_split=0.2, verbose=2)\n",
    "assert(history.history['val_acc'][-1] > 0.91), \"The validation accuracy is: %.3f.  It should be greater than 0.91\" % history.history['val_acc'][-1]\n",
    "print('acc = {}'.format(history.history['acc'][-1]))\n",
    "print('val_acc = {}'.format(history.history['val_acc'][-1]))\n",
    "print('Keras layers tests passed.')"
   ]
  },
  {
   "cell_type": "code",
   "execution_count": 54,
   "metadata": {},
   "outputs": [
    {
     "name": "stdout",
     "output_type": "stream",
     "text": [
      "9 layers total\n",
      "____________________________________________________________________________________________________\n",
      "Layer (type)                     Output Shape          Param #     Connected to                     \n",
      "====================================================================================================\n",
      "convolution2d_11 (Convolution2D) (None, 30, 30, 32)    896         convolution2d_input_11[0][0]     \n",
      "____________________________________________________________________________________________________\n",
      "maxpooling2d_7 (MaxPooling2D)    (None, 15, 15, 32)    0           convolution2d_11[0][0]           \n",
      "____________________________________________________________________________________________________\n",
      "dropout_5 (Dropout)              (None, 15, 15, 32)    0           maxpooling2d_7[0][0]             \n",
      "____________________________________________________________________________________________________\n",
      "activation_41 (Activation)       (None, 15, 15, 32)    0           dropout_5[0][0]                  \n",
      "____________________________________________________________________________________________________\n",
      "flatten_16 (Flatten)             (None, 7200)          0           activation_41[0][0]              \n",
      "____________________________________________________________________________________________________\n",
      "dense_31 (Dense)                 (None, 128)           921728      flatten_16[0][0]                 \n",
      "____________________________________________________________________________________________________\n",
      "activation_42 (Activation)       (None, 128)           0           dense_31[0][0]                   \n",
      "____________________________________________________________________________________________________\n",
      "dense_32 (Dense)                 (None, 43)            5547        activation_42[0][0]              \n",
      "____________________________________________________________________________________________________\n",
      "activation_43 (Activation)       (None, 43)            0           dense_32[0][0]                   \n",
      "====================================================================================================\n",
      "Total params: 928,171\n",
      "Trainable params: 928,171\n",
      "Non-trainable params: 0\n",
      "____________________________________________________________________________________________________\n"
     ]
    }
   ],
   "source": [
    "from keras.layers.core import Dense, Activation, Flatten, Dropout\n",
    "\n",
    "model = Sequential()\n",
    "model.add(Convolution2D(32, 3, 3, input_shape=(32, 32, 3)))\n",
    "model.add(MaxPooling2D((2, 2)))\n",
    "# Add a dropout layer after the pooling layer. Set the dropout rate to 50%.\n",
    "model.add(Dropout(0.5))\n",
    "model.add(Activation('relu'))\n",
    "model.add(Flatten())\n",
    "model.add(Dense(128))\n",
    "model.add(Activation('relu'))\n",
    "model.add(Dense(43))\n",
    "model.add(Activation('softmax'))\n",
    "print ('{} layers total'.format(len(model.layers)))\n",
    "model.summary()"
   ]
  },
  {
   "cell_type": "code",
   "execution_count": 55,
   "metadata": {},
   "outputs": [
    {
     "name": "stdout",
     "output_type": "stream",
     "text": [
      "Train on 31367 samples, validate on 7842 samples\n",
      "Epoch 1/2\n",
      "2s - loss: 1.6536 - acc: 0.5590 - val_loss: 0.7540 - val_acc: 0.8221\n",
      "Epoch 2/2\n",
      "2s - loss: 0.5524 - acc: 0.8556 - val_loss: 0.3792 - val_acc: 0.9192\n",
      "acc = 0.855580705837345\n",
      "val_acc = 0.9191532772403991\n",
      "Keras layers tests passed.\n"
     ]
    }
   ],
   "source": [
    "from keras.layers.core import Dense, Activation, Flatten, Dropout\n",
    "from keras.layers.convolutional import Convolution2D\n",
    "from keras.layers.pooling import MaxPooling2D\n",
    "\n",
    "check_layers([Convolution2D, MaxPooling2D, Dropout, Activation, Flatten, Dense, Activation, Dense, Activation], model.layers)\n",
    "assert model.layers[2].p == 0.5, 'Third layer should be a Dropout of 50%'\n",
    "\n",
    "model.compile('adam', 'categorical_crossentropy', ['accuracy'])\n",
    "history = model.fit(X_normalized, y_one_hot, batch_size=128, nb_epoch=2, validation_split=0.2, verbose=2)\n",
    "assert(history.history['val_acc'][-1] > 0.91), \"The validation accuracy is: %.3f.  It should be greater than 0.91\" % history.history['val_acc'][-1]\n",
    "print('acc = {}'.format(history.history['acc'][-1]))\n",
    "print('val_acc = {}'.format(history.history['val_acc'][-1]))\n",
    "print('Keras layers tests passed.')"
   ]
  },
  {
   "cell_type": "code",
   "execution_count": 56,
   "metadata": {},
   "outputs": [
    {
     "name": "stdout",
     "output_type": "stream",
     "text": [
      "____________________________________________________________________________________________________\n",
      "Layer (type)                     Output Shape          Param #     Connected to                     \n",
      "====================================================================================================\n",
      "convolution2d_12 (Convolution2D) (None, 30, 30, 32)    896         convolution2d_input_12[0][0]     \n",
      "____________________________________________________________________________________________________\n",
      "maxpooling2d_8 (MaxPooling2D)    (None, 15, 15, 32)    0           convolution2d_12[0][0]           \n",
      "____________________________________________________________________________________________________\n",
      "dropout_6 (Dropout)              (None, 15, 15, 32)    0           maxpooling2d_8[0][0]             \n",
      "____________________________________________________________________________________________________\n",
      "activation_44 (Activation)       (None, 15, 15, 32)    0           dropout_6[0][0]                  \n",
      "____________________________________________________________________________________________________\n",
      "flatten_17 (Flatten)             (None, 7200)          0           activation_44[0][0]              \n",
      "____________________________________________________________________________________________________\n",
      "dense_33 (Dense)                 (None, 128)           921728      flatten_17[0][0]                 \n",
      "____________________________________________________________________________________________________\n",
      "activation_45 (Activation)       (None, 128)           0           dense_33[0][0]                   \n",
      "____________________________________________________________________________________________________\n",
      "dense_34 (Dense)                 (None, 43)            5547        activation_45[0][0]              \n",
      "____________________________________________________________________________________________________\n",
      "activation_46 (Activation)       (None, 43)            0           dense_34[0][0]                   \n",
      "====================================================================================================\n",
      "Total params: 928,171\n",
      "Trainable params: 928,171\n",
      "Non-trainable params: 0\n",
      "____________________________________________________________________________________________________\n",
      "Train on 31367 samples, validate on 7842 samples\n",
      "Epoch 1/10\n",
      "2s - loss: 1.4685 - acc: 0.6146 - val_loss: 0.5924 - val_acc: 0.8667\n",
      "Epoch 2/10\n",
      "2s - loss: 0.4398 - acc: 0.8898 - val_loss: 0.3709 - val_acc: 0.9075\n",
      "Epoch 3/10\n",
      "2s - loss: 0.2838 - acc: 0.9287 - val_loss: 0.2397 - val_acc: 0.9436\n",
      "Epoch 4/10\n",
      "2s - loss: 0.2071 - acc: 0.9470 - val_loss: 0.1796 - val_acc: 0.9597\n",
      "Epoch 5/10\n",
      "2s - loss: 0.1688 - acc: 0.9567 - val_loss: 0.1558 - val_acc: 0.9617\n",
      "Epoch 6/10\n",
      "2s - loss: 0.1432 - acc: 0.9621 - val_loss: 0.1358 - val_acc: 0.9679\n",
      "Epoch 7/10\n",
      "2s - loss: 0.1210 - acc: 0.9681 - val_loss: 0.1176 - val_acc: 0.9748\n",
      "Epoch 8/10\n",
      "2s - loss: 0.1141 - acc: 0.9689 - val_loss: 0.1147 - val_acc: 0.9753\n",
      "Epoch 9/10\n",
      "2s - loss: 0.1002 - acc: 0.9727 - val_loss: 0.1140 - val_acc: 0.9768\n",
      "Epoch 10/10\n",
      "2s - loss: 0.0989 - acc: 0.9726 - val_loss: 0.1089 - val_acc: 0.9739\n"
     ]
    }
   ],
   "source": [
    "from keras.models import Sequential\n",
    "from keras.models import Sequential\n",
    "from keras.layers.core import Dense, Activation, Flatten, Dropout\n",
    "from keras.layers.convolutional import Convolution2D\n",
    "from keras.layers.pooling import MaxPooling2D\n",
    "\n",
    "model = Sequential()\n",
    "model.add(Convolution2D(32, 3, 3, input_shape=(32, 32, 3)))\n",
    "model.add(MaxPooling2D((2, 2)))\n",
    "model.add(Dropout(0.5))\n",
    "model.add(Activation('relu'))\n",
    "model.add(Flatten())\n",
    "model.add(Dense(128))\n",
    "model.add(Activation('relu'))\n",
    "model.add(Dense(43))\n",
    "model.add(Activation('softmax'))\n",
    "model.summary()\n",
    "\n",
    "# Compile and train the model\n",
    "model.compile('adam', 'categorical_crossentropy', ['accuracy'])\n",
    "history = model.fit(X_normalized, y_one_hot, batch_size=128, nb_epoch=10, validation_split=0.2, verbose=2)"
   ]
  },
  {
   "cell_type": "code",
   "execution_count": 57,
   "metadata": {},
   "outputs": [
    {
     "name": "stdout",
     "output_type": "stream",
     "text": [
      "12032/12630 [===========================>..] - ETA: 0sloss: 0.42587822306656403\n",
      "acc: 0.9045922407911395\n"
     ]
    }
   ],
   "source": [
    "with open('test.p', 'rb') as f:\n",
    "    data_test = pickle.load(f)\n",
    "\n",
    "X_test = data_test['features']\n",
    "y_test = data_test['labels']\n",
    "\n",
    "# TODO: Preprocess data & one-hot encode the labels\n",
    "X_normalized_test = normalize_grayscale(X_test)\n",
    "y_one_hot_test = label_binarizer.fit_transform(y_test)\n",
    "\n",
    "# TODO: Evaluate model on test data\n",
    "metrics = model.evaluate(X_normalized_test, y_one_hot_test)\n",
    "for metric_i in range(len(model.metrics_names)):\n",
    "    metric_name = model.metrics_names[metric_i]\n",
    "    metric_value = metrics[metric_i]\n",
    "    print('{}: {}'.format(metric_name, metric_value))"
   ]
  },
  {
   "cell_type": "code",
   "execution_count": null,
   "metadata": {
    "collapsed": true
   },
   "outputs": [],
   "source": []
  }
 ],
 "metadata": {
  "kernelspec": {
   "display_name": "Python 3",
   "language": "python",
   "name": "python3"
  },
  "language_info": {
   "codemirror_mode": {
    "name": "ipython",
    "version": 3
   },
   "file_extension": ".py",
   "mimetype": "text/x-python",
   "name": "python",
   "nbconvert_exporter": "python",
   "pygments_lexer": "ipython3",
   "version": "3.5.2"
  }
 },
 "nbformat": 4,
 "nbformat_minor": 2
}
