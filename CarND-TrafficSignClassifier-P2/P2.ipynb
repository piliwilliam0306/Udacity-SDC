{
 "cells": [
  {
   "cell_type": "code",
   "execution_count": 79,
   "metadata": {
    "collapsed": true
   },
   "outputs": [],
   "source": [
    "import pickle\n",
    "import numpy as np\n",
    "import math\n",
    "from IPython.display import display\n",
    "from PIL import Image\n",
    "import pandas as pd\n",
    "import matplotlib.pyplot as plt"
   ]
  },
  {
   "cell_type": "code",
   "execution_count": 75,
   "metadata": {},
   "outputs": [
    {
     "name": "stdout",
     "output_type": "stream",
     "text": [
      "X_train shape: (39209, 32, 32, 3)\n",
      "Y_train shape: (39209,)\n",
      "Number of training data: 39209\n",
      "Image shape: (32, 32, 3)\n",
      "Number of classes: 43\n"
     ]
    },
    {
     "data": {
      "text/plain": [
       "<matplotlib.text.Text at 0x7f5a50d0e470>"
      ]
     },
     "execution_count": 75,
     "metadata": {},
     "output_type": "execute_result"
    },
    {
     "data": {
      "image/png": "[encoded data removed]",
      "text/plain": [
       "<matplotlib.figure.Figure at 0x7f5a5291f9e8>"
      ]
     },
     "metadata": {},
     "output_type": "display_data"
    }
   ],
   "source": [
    "# loading pickled dataset\n",
    "# Data exploration visualization\n",
    "# http://matplotlib.org/examples/statistics/histogram_demo_features.html\n",
    "import random\n",
    "%matplotlib inline\n",
    "\n",
    "with open('train.p', 'rb') as f:\n",
    "    data = pickle.load(f)\n",
    "\n",
    "# Load the feature data to the variable X_train  \n",
    "# Load the label data to the variable Y_train\n",
    "X_train, Y_train = data['features'], data['labels']\n",
    "\n",
    "# 'features' is a 4D array containing raw pixel data of the traffic sign images, \n",
    "# (num examples, width, height, channels).\n",
    "print ('X_train shape: {}'.format(X_train.shape))\n",
    "# 'labels' is a 2D array containing the label/class id of the traffic sign. \n",
    "print ('Y_train shape: {}'.format(Y_train.shape))\n",
    "# number of training set\n",
    "print ('Number of training data: {}'.format(len(X_train)))\n",
    "# showing image shape\n",
    "print ('Image shape: {}'.format(X_train.shape[1:]))\n",
    "# number of class\n",
    "classes = len(set(Y_train))\n",
    "print ('Number of classes: {}'.format(classes))\n",
    "\n",
    "plt.figure(figsize=(14, 7))\n",
    "plt.hist(Y_train, bins=range(classes))\n",
    "plt.title('Counts of Total Data')\n",
    "plt.xlabel('Sign Class')\n",
    "plt.ylabel('Counts')\n"
   ]
  },
  {
   "cell_type": "code",
   "execution_count": 101,
   "metadata": {},
   "outputs": [
    {
     "data": {
      "text/plain": [
       "0    Speed limit (20km/h)\n",
       "1    Speed limit (30km/h)\n",
       "2    Speed limit (50km/h)\n",
       "3    Speed limit (60km/h)\n",
       "4    Speed limit (70km/h)\n",
       "Name: SignName, dtype: object"
      ]
     },
     "metadata": {},
     "output_type": "display_data"
    }
   ],
   "source": [
    "# reading sign name file\n",
    "label_file = 'signnames.csv'\n",
    "label = pd.read_csv(label_file)\n",
    "ClassId = label['ClassId']\n",
    "SignName = label['SignName']\n",
    "display(SignName.head())"
   ]
  },
  {
   "cell_type": "code",
   "execution_count": 102,
   "metadata": {},
   "outputs": [
    {
     "name": "stdout",
     "output_type": "stream",
     "text": [
      "Speed limit (20km/h)\n",
      "Speed limit (30km/h)\n",
      "Speed limit (50km/h)\n",
      "Speed limit (60km/h)\n",
      "Speed limit (70km/h)\n",
      "Speed limit (80km/h)\n",
      "End of speed limit (80km/h)\n",
      "Speed limit (100km/h)\n",
      "Speed limit (120km/h)\n",
      "No passing\n",
      "No passing for vehicles over 3.5 metric tons\n",
      "Right-of-way at the next intersection\n",
      "Priority road\n",
      "Yield\n",
      "Stop\n",
      "No vehicles\n",
      "Vehicles over 3.5 metric tons prohibited\n",
      "No entry\n",
      "General caution\n",
      "Dangerous curve to the left\n",
      "Dangerous curve to the right\n",
      "Double curve\n",
      "Bumpy road\n",
      "Slippery road\n",
      "Road narrows on the right\n",
      "Road work\n",
      "Traffic signals\n",
      "Pedestrians\n",
      "Children crossing\n",
      "Bicycles crossing\n",
      "Beware of ice/snow\n",
      "Wild animals crossing\n",
      "End of all speed and passing limits\n",
      "Turn right ahead\n",
      "Turn left ahead\n",
      "Ahead only\n",
      "Go straight or right\n",
      "Go straight or left\n",
      "Keep right\n",
      "Keep left\n",
      "Roundabout mandatory\n",
      "End of no passing\n",
      "End of no passing by vehicles over 3.5 metric tons\n",
      "Total Signs : 43\n"
     ]
    }
   ],
   "source": [
    "SignNames = list(SignName)\n",
    "Total_Signs = len(SignNames)\n",
    "for SignName in SignNames:\n",
    "    print(SignName)\n",
    "print ('Total Signs : {}'.format(Total_Signs))\n"
   ]
  },
  {
   "cell_type": "code",
   "execution_count": 105,
   "metadata": {},
   "outputs": [
    {
     "data": {
      "text/plain": [
       "'\\ni = 1\\nex_per_sign = 3\\n\\ndef plot_img(img):\\n    for i in range(ex_per_sign):\\n        display(SignName[Y_train[i*2000]])\\n        plt.subplot(3, 3, i)\\n        plt.imshow(img[i*2000])\\n        plt.show()\\n        i = i + 1\\n  \\nplot_img(X_train)   \\n'"
      ]
     },
     "execution_count": 105,
     "metadata": {},
     "output_type": "execute_result"
    }
   ],
   "source": [
    "# Visualizing dataset\n",
    "#print(set(Y_train))\n",
    "#print(Y_train)\n",
    "#plt.imshow(X_train[2000])\n",
    "#plt.show()\n",
    "\n",
    "labels = set(Y_train)\n",
    "\n",
    "def split_by_class(y_data) :\n",
    "    img_index = {}\n",
    "    for i,y in enumerate(y_data) :\n",
    "        if y not in img_index.keys() :\n",
    "            img_index[y] = [i]\n",
    "        else :\n",
    "            img_index[y].append(i)\n",
    "    return img_index\n",
    "\n",
    "test = split_by_class(Y_train)\n",
    "#print(test)\n",
    "\n",
    "'''\n",
    "i = 1\n",
    "ex_per_sign = 3\n",
    "\n",
    "def plot_img(img):\n",
    "    for i in range(ex_per_sign):\n",
    "        display(SignName[Y_train[i*2000]])\n",
    "        plt.subplot(3, 3, i)\n",
    "        plt.imshow(img[i*2000])\n",
    "        plt.show()\n",
    "        i = i + 1\n",
    "  \n",
    "plot_img(X_train)   \n",
    "'''"
   ]
  },
  {
   "cell_type": "code",
   "execution_count": 227,
   "metadata": {},
   "outputs": [
    {
     "name": "stdout",
     "output_type": "stream",
     "text": [
      "Data shape tests passed.\n"
     ]
    }
   ],
   "source": [
    "# Making sure to pass these tests. \n",
    "assert np.array_equal(X_train, data['features']), 'X_train not set to data[\\'features\\'].'\n",
    "assert np.array_equal(Y_train, data['labels']), 'Y_train not set to data[\\'labels\\'].'\n",
    "print('Data shape tests passed.')"
   ]
  },
  {
   "cell_type": "code",
   "execution_count": 228,
   "metadata": {
    "collapsed": true
   },
   "outputs": [],
   "source": [
    "# Shuffle the data\n",
    "from sklearn.utils import shuffle\n",
    "X_train, Y_train = shuffle(X_train, Y_train)"
   ]
  },
  {
   "cell_type": "code",
   "execution_count": 229,
   "metadata": {},
   "outputs": [
    {
     "name": "stdout",
     "output_type": "stream",
     "text": [
      "Data shuffling tests passed.\n"
     ]
    },
    {
     "data": {
      "text/plain": [
       "'Yield'"
      ]
     },
     "metadata": {},
     "output_type": "display_data"
    },
    {
     "data": {
      "image/png": "[encoded data removed]",
      "text/plain": [
       "<matplotlib.figure.Figure at 0x7fcba63fe748>"
      ]
     },
     "metadata": {},
     "output_type": "display_data"
    },
    {
     "data": {
      "text/plain": [
       "'Speed limit (80km/h)'"
      ]
     },
     "metadata": {},
     "output_type": "display_data"
    },
    {
     "data": {
      "image/png": "[encoded data removed]",
      "text/plain": [
       "<matplotlib.figure.Figure at 0x7fcba58b0c88>"
      ]
     },
     "metadata": {},
     "output_type": "display_data"
    },
    {
     "data": {
      "text/plain": [
       "'No entry'"
      ]
     },
     "metadata": {},
     "output_type": "display_data"
    },
    {
     "data": {
      "image/png": "[encoded data removed]",
      "text/plain": [
       "<matplotlib.figure.Figure at 0x7fcba60eab00>"
      ]
     },
     "metadata": {},
     "output_type": "display_data"
    }
   ],
   "source": [
    "# Checking training data shape and whether the data is shuffled. \n",
    "assert X_train.shape == data['features'].shape, 'X_train has changed shape. The shape shouldn\\'t change when shuffling.'\n",
    "assert Y_train.shape == data['labels'].shape, 'Y_train has changed shape. The shape shouldn\\'t change when shuffling.'\n",
    "assert not np.array_equal(X_train, data['features']), 'X_train not shuffled.'\n",
    "assert not np.array_equal(Y_train, data['labels']), 'Y_train not shuffled.'\n",
    "print('Data shuffling tests passed.')\n",
    "\n",
    "# visualize shuffled data\n",
    "plot_img(X_train)"
   ]
  },
  {
   "cell_type": "code",
   "execution_count": 230,
   "metadata": {},
   "outputs": [
    {
     "data": {
      "text/plain": [
       "'Yield'"
      ]
     },
     "metadata": {},
     "output_type": "display_data"
    },
    {
     "data": {
      "image/png": "[encoded data removed]",
      "text/plain": [
       "<matplotlib.figure.Figure at 0x7fcba64b0f98>"
      ]
     },
     "metadata": {},
     "output_type": "display_data"
    },
    {
     "data": {
      "text/plain": [
       "'Speed limit (80km/h)'"
      ]
     },
     "metadata": {},
     "output_type": "display_data"
    },
    {
     "data": {
      "image/png": "[encoded data removed]",
      "text/plain": [
       "<matplotlib.figure.Figure at 0x7fcba5a00240>"
      ]
     },
     "metadata": {},
     "output_type": "display_data"
    },
    {
     "data": {
      "text/plain": [
       "'No entry'"
      ]
     },
     "metadata": {},
     "output_type": "display_data"
    },
    {
     "data": {
      "image/png": "[encoded data removed]",
      "text/plain": [
       "<matplotlib.figure.Figure at 0x7fcb1ef2e048>"
      ]
     },
     "metadata": {},
     "output_type": "display_data"
    }
   ],
   "source": [
    "# Implement Min-Max scaling in the normalize() function to a range of a = -0.5 and b = 0.5. \n",
    "# After scaling, the values of the pixels in the input data should range from -0.5 to 0.5.\n",
    "\n",
    "def normalize_grayscale(image_data):\n",
    "    a = -0.5\n",
    "    b = 0.5\n",
    "    grayscale_min = 0\n",
    "    grayscale_max = 255\n",
    "    return a + ( ( (image_data - grayscale_min)*(b - a) )/( grayscale_max - grayscale_min ) )\n",
    "\n",
    "X_normalized = normalize_grayscale(X_train)\n",
    "# plot normalized data\n",
    "plot_img(X_normalized)  \n"
   ]
  },
  {
   "cell_type": "code",
   "execution_count": 231,
   "metadata": {},
   "outputs": [
    {
     "name": "stdout",
     "output_type": "stream",
     "text": [
      "Normalization tests passed.\n"
     ]
    }
   ],
   "source": [
    "# Check if data is normalized to range -0.5 to 0.5\n",
    "assert math.isclose(np.min(X_normalized), -0.5, abs_tol=1e-5) and math.isclose(np.max(X_normalized), 0.5, abs_tol=1e-5), 'The range of the training data is: {} to {}.  It must be -0.5 to 0.5'.format(np.min(X_normalized), np.max(X_normalized))\n",
    "print('Normalization tests passed.')"
   ]
  },
  {
   "cell_type": "code",
   "execution_count": 232,
   "metadata": {},
   "outputs": [
    {
     "data": {
      "text/plain": [
       "array([0, 0, 0, 0, 0, 0, 0, 0, 0, 0, 0, 0, 0, 1, 0, 0, 0, 0, 0, 0, 0, 0, 0,\n",
       "       0, 0, 0, 0, 0, 0, 0, 0, 0, 0, 0, 0, 0, 0, 0, 0, 0, 0, 0, 0])"
      ]
     },
     "metadata": {},
     "output_type": "display_data"
    },
    {
     "data": {
      "text/plain": [
       "array([0, 0, 0, 0, 0, 0, 0, 0, 0, 0, 1, 0, 0, 0, 0, 0, 0, 0, 0, 0, 0, 0, 0,\n",
       "       0, 0, 0, 0, 0, 0, 0, 0, 0, 0, 0, 0, 0, 0, 0, 0, 0, 0, 0, 0])"
      ]
     },
     "metadata": {},
     "output_type": "display_data"
    }
   ],
   "source": [
    "# One-Hot encode the labels to the variable y_one_hot\n",
    "from sklearn.preprocessing import LabelBinarizer\n",
    "label_binarizer = LabelBinarizer()\n",
    "y_one_hot = label_binarizer.fit_transform(Y_train)\n",
    "display(y_one_hot[0])\n",
    "display(y_one_hot[39208])"
   ]
  },
  {
   "cell_type": "code",
   "execution_count": 233,
   "metadata": {},
   "outputs": [
    {
     "name": "stdout",
     "output_type": "stream",
     "text": [
      "ONE-HOT encoding tests passed.\n"
     ]
    }
   ],
   "source": [
    "# Checking ONE-HOT shape\n",
    "import collections\n",
    "assert y_one_hot.shape == (39209, 43), 'y_one_hot is not the correct shape.  It\\'s {}, it should be (39209, 43)'.format(y_one_hot.shape)\n",
    "assert next((False for y in y_one_hot if collections.Counter(y) != {0: 42, 1: 1}), True), 'y_one_hot not one-hot encoded.'\n",
    "print('ONE-HOT encoding tests passed.')"
   ]
  },
  {
   "cell_type": "code",
   "execution_count": 234,
   "metadata": {},
   "outputs": [
    {
     "name": "stdout",
     "output_type": "stream",
     "text": [
      "5 layers total\n",
      "____________________________________________________________________________________________________\n",
      "Layer (type)                     Output Shape          Param #     Connected to                     \n",
      "====================================================================================================\n",
      "flatten_14 (Flatten)             (None, 3072)          0           flatten_input_5[0][0]            \n",
      "____________________________________________________________________________________________________\n",
      "dense_27 (Dense)                 (None, 128)           393344      flatten_14[0][0]                 \n",
      "____________________________________________________________________________________________________\n",
      "activation_36 (Activation)       (None, 128)           0           dense_27[0][0]                   \n",
      "____________________________________________________________________________________________________\n",
      "dense_28 (Dense)                 (None, 43)            5547        activation_36[0][0]              \n",
      "____________________________________________________________________________________________________\n",
      "activation_37 (Activation)       (None, 43)            0           dense_28[0][0]                   \n",
      "====================================================================================================\n",
      "Total params: 398,891\n",
      "Trainable params: 398,891\n",
      "Non-trainable params: 0\n",
      "____________________________________________________________________________________________________\n"
     ]
    }
   ],
   "source": [
    "from keras.models import Sequential\n",
    "model = Sequential()\n",
    "# Build a Multi-layer feedforward neural network with Keras here.\n",
    "from keras.models import Sequential\n",
    "from keras.layers.core import Dense, Activation, Flatten\n",
    "from keras.activations import relu, softmax\n",
    "\n",
    "# Set the first layer to a Flatten layer with the input_shape set to (32, 32, 3)\n",
    "model.add(Flatten(input_shape=(32, 32, 3)))\n",
    "# Set the second layer to Dense layer width to 128 output.\n",
    "model.add(Dense(128))\n",
    "# Use a ReLU activation function after the second layer.\n",
    "model.add(Activation('relu'))\n",
    "# Set the output layer width to 43, since there are 43 classes in the dataset.\n",
    "model.add(Dense(43))\n",
    "# Use a softmax activation function after the output layer.\n",
    "model.add(Activation('softmax'))\n",
    "\n",
    "print ('{} layers total'.format(len(model.layers)))\n",
    "model.summary()"
   ]
  },
  {
   "cell_type": "code",
   "execution_count": 235,
   "metadata": {},
   "outputs": [
    {
     "name": "stdout",
     "output_type": "stream",
     "text": [
      "Keras layers tests passed.\n"
     ]
    }
   ],
   "source": [
    "# Checking Keras layers\n",
    "\n",
    "def check_layers(layers, true_layers):\n",
    "    assert len(true_layers) != 0, 'No layers found'\n",
    "    for layer_i in range(len(layers)):\n",
    "        assert isinstance(true_layers[layer_i], layers[layer_i]), 'Layer {} is not a {} layer'.format(layer_i+1, layers[layer_i].__name__)\n",
    "    assert len(true_layers) == len(layers), '{} layers found, should be {} layers'.format(len(true_layers), len(layers))\n",
    "\n",
    "check_layers([Flatten, Dense, Activation, Dense, Activation], model.layers)\n",
    "\n",
    "assert model.layers[0].input_shape == (None, 32, 32, 3), 'First layer input shape is wrong, it should be (32, 32, 3)'\n",
    "assert model.layers[1].output_shape == (None, 128), 'Second layer output is wrong, it should be (128)'\n",
    "assert model.layers[2].activation == relu, 'Third layer not a relu activation layer'\n",
    "assert model.layers[3].output_shape == (None, 43), 'Fourth layer output is wrong, it should be (43)'\n",
    "assert model.layers[4].activation == softmax, 'Fifth layer not a softmax activation layer'\n",
    "print('Keras layers tests passed.')"
   ]
  },
  {
   "cell_type": "code",
   "execution_count": 236,
   "metadata": {},
   "outputs": [
    {
     "name": "stdout",
     "output_type": "stream",
     "text": [
      "Train on 31367 samples, validate on 7842 samples\n",
      "Epoch 1/10\n",
      "1s - loss: 1.8126 - acc: 0.5304 - val_loss: 1.1854 - val_acc: 0.6891\n",
      "Epoch 2/10\n",
      "0s - loss: 0.8642 - acc: 0.7738 - val_loss: 0.8053 - val_acc: 0.7831\n",
      "Epoch 3/10\n",
      "0s - loss: 0.6080 - acc: 0.8462 - val_loss: 0.8125 - val_acc: 0.7283\n",
      "Epoch 4/10\n",
      "0s - loss: 0.4968 - acc: 0.8705 - val_loss: 0.7073 - val_acc: 0.7784\n",
      "Epoch 5/10\n",
      "0s - loss: 0.4188 - acc: 0.8900 - val_loss: 0.4383 - val_acc: 0.8828\n",
      "Epoch 6/10\n",
      "0s - loss: 0.3491 - acc: 0.9118 - val_loss: 0.4231 - val_acc: 0.8716\n",
      "Epoch 7/10\n",
      "0s - loss: 0.3084 - acc: 0.9201 - val_loss: 0.4028 - val_acc: 0.8897\n",
      "Epoch 8/10\n",
      "0s - loss: 0.2906 - acc: 0.9233 - val_loss: 0.4523 - val_acc: 0.8690\n",
      "Epoch 9/10\n",
      "0s - loss: 0.2659 - acc: 0.9297 - val_loss: 0.4078 - val_acc: 0.8792\n",
      "Epoch 10/10\n",
      "0s - loss: 0.2781 - acc: 0.9269 - val_loss: 0.6067 - val_acc: 0.8471\n"
     ]
    }
   ],
   "source": [
    "# Compile the network using adam optimizer and categorical_crossentropy loss function\n",
    "model.compile('adam', 'categorical_crossentropy', ['accuracy'])\n",
    "\n",
    "# Train the network for ten epochs and validate with 20% of the training data.\n",
    "history = model.fit(X_normalized, y_one_hot, batch_size=128, nb_epoch=10, validation_split=0.2, verbose=2)"
   ]
  },
  {
   "cell_type": "code",
   "execution_count": 237,
   "metadata": {},
   "outputs": [
    {
     "ename": "AssertionError",
     "evalue": "The validation accuracy is: 0.847. It shoud be greater than 0.85",
     "output_type": "error",
     "traceback": [
      "\u001b[0;31m---------------------------------------------------------------------------\u001b[0m",
      "\u001b[0;31mAssertionError\u001b[0m                            Traceback (most recent call last)",
      "\u001b[0;32m<ipython-input-237-b6ff239f8344>\u001b[0m in \u001b[0;36m<module>\u001b[0;34m()\u001b[0m\n\u001b[1;32m      6\u001b[0m \u001b[0;34m\u001b[0m\u001b[0m\n\u001b[1;32m      7\u001b[0m \u001b[0;32massert\u001b[0m \u001b[0mhistory\u001b[0m\u001b[0;34m.\u001b[0m\u001b[0mhistory\u001b[0m\u001b[0;34m[\u001b[0m\u001b[0;34m'acc'\u001b[0m\u001b[0;34m]\u001b[0m\u001b[0;34m[\u001b[0m\u001b[0;34m-\u001b[0m\u001b[0;36m1\u001b[0m\u001b[0;34m]\u001b[0m \u001b[0;34m>\u001b[0m \u001b[0;36m0.92\u001b[0m\u001b[0;34m,\u001b[0m \u001b[0;34m'The training accuracy was: %.3f. It shoud be greater than 0.92'\u001b[0m \u001b[0;34m%\u001b[0m \u001b[0mhistory\u001b[0m\u001b[0;34m.\u001b[0m\u001b[0mhistory\u001b[0m\u001b[0;34m[\u001b[0m\u001b[0;34m'acc'\u001b[0m\u001b[0;34m]\u001b[0m\u001b[0;34m[\u001b[0m\u001b[0;34m-\u001b[0m\u001b[0;36m1\u001b[0m\u001b[0;34m]\u001b[0m\u001b[0;34m\u001b[0m\u001b[0m\n\u001b[0;32m----> 8\u001b[0;31m \u001b[0;32massert\u001b[0m \u001b[0mhistory\u001b[0m\u001b[0;34m.\u001b[0m\u001b[0mhistory\u001b[0m\u001b[0;34m[\u001b[0m\u001b[0;34m'val_acc'\u001b[0m\u001b[0;34m]\u001b[0m\u001b[0;34m[\u001b[0m\u001b[0;34m-\u001b[0m\u001b[0;36m1\u001b[0m\u001b[0;34m]\u001b[0m \u001b[0;34m>\u001b[0m \u001b[0;36m0.85\u001b[0m\u001b[0;34m,\u001b[0m \u001b[0;34m'The validation accuracy is: %.3f. It shoud be greater than 0.85'\u001b[0m \u001b[0;34m%\u001b[0m \u001b[0mhistory\u001b[0m\u001b[0;34m.\u001b[0m\u001b[0mhistory\u001b[0m\u001b[0;34m[\u001b[0m\u001b[0;34m'val_acc'\u001b[0m\u001b[0;34m]\u001b[0m\u001b[0;34m[\u001b[0m\u001b[0;34m-\u001b[0m\u001b[0;36m1\u001b[0m\u001b[0;34m]\u001b[0m\u001b[0;34m\u001b[0m\u001b[0m\n\u001b[0m\u001b[1;32m      9\u001b[0m \u001b[0mprint\u001b[0m\u001b[0;34m(\u001b[0m\u001b[0;34m'acc = {}'\u001b[0m\u001b[0;34m.\u001b[0m\u001b[0mformat\u001b[0m\u001b[0;34m(\u001b[0m\u001b[0mhistory\u001b[0m\u001b[0;34m.\u001b[0m\u001b[0mhistory\u001b[0m\u001b[0;34m[\u001b[0m\u001b[0;34m'acc'\u001b[0m\u001b[0;34m]\u001b[0m\u001b[0;34m[\u001b[0m\u001b[0;34m-\u001b[0m\u001b[0;36m1\u001b[0m\u001b[0;34m]\u001b[0m\u001b[0;34m)\u001b[0m\u001b[0;34m)\u001b[0m\u001b[0;34m\u001b[0m\u001b[0m\n\u001b[1;32m     10\u001b[0m \u001b[0mprint\u001b[0m\u001b[0;34m(\u001b[0m\u001b[0;34m'val_acc = {}'\u001b[0m\u001b[0;34m.\u001b[0m\u001b[0mformat\u001b[0m\u001b[0;34m(\u001b[0m\u001b[0mhistory\u001b[0m\u001b[0;34m.\u001b[0m\u001b[0mhistory\u001b[0m\u001b[0;34m[\u001b[0m\u001b[0;34m'val_acc'\u001b[0m\u001b[0;34m]\u001b[0m\u001b[0;34m[\u001b[0m\u001b[0;34m-\u001b[0m\u001b[0;36m1\u001b[0m\u001b[0;34m]\u001b[0m\u001b[0;34m)\u001b[0m\u001b[0;34m)\u001b[0m\u001b[0;34m\u001b[0m\u001b[0m\n",
      "\u001b[0;31mAssertionError\u001b[0m: The validation accuracy is: 0.847. It shoud be greater than 0.85"
     ]
    }
   ],
   "source": [
    "from keras.optimizers import Adam\n",
    "\n",
    "assert model.loss == 'categorical_crossentropy', 'Not using categorical_crossentropy loss function'\n",
    "assert isinstance(model.optimizer, Adam), 'Not using adam optimizer'\n",
    "assert len(history.history['acc']) == 10, 'You\\'re using {} epochs when you need to use 10 epochs.'.format(len(history.history['acc']))\n",
    "\n",
    "assert history.history['acc'][-1] > 0.92, 'The training accuracy was: %.3f. It shoud be greater than 0.92' % history.history['acc'][-1]\n",
    "assert history.history['val_acc'][-1] > 0.85, 'The validation accuracy is: %.3f. It shoud be greater than 0.85' % history.history['val_acc'][-1]\n",
    "print('acc = {}'.format(history.history['acc'][-1]))\n",
    "print('val_acc = {}'.format(history.history['val_acc'][-1]))\n",
    "print('Tests passed.')"
   ]
  },
  {
   "cell_type": "code",
   "execution_count": 238,
   "metadata": {},
   "outputs": [
    {
     "name": "stdout",
     "output_type": "stream",
     "text": [
      "7 layers total\n",
      "____________________________________________________________________________________________________\n",
      "Layer (type)                     Output Shape          Param #     Connected to                     \n",
      "====================================================================================================\n",
      "convolution2d_10 (Convolution2D) (None, 30, 30, 32)    896         convolution2d_input_10[0][0]     \n",
      "____________________________________________________________________________________________________\n",
      "activation_38 (Activation)       (None, 30, 30, 32)    0           convolution2d_10[0][0]           \n",
      "____________________________________________________________________________________________________\n",
      "flatten_15 (Flatten)             (None, 28800)         0           activation_38[0][0]              \n",
      "____________________________________________________________________________________________________\n",
      "dense_29 (Dense)                 (None, 128)           3686528     flatten_15[0][0]                 \n",
      "____________________________________________________________________________________________________\n",
      "activation_39 (Activation)       (None, 128)           0           dense_29[0][0]                   \n",
      "____________________________________________________________________________________________________\n",
      "dense_30 (Dense)                 (None, 43)            5547        activation_39[0][0]              \n",
      "____________________________________________________________________________________________________\n",
      "activation_40 (Activation)       (None, 43)            0           dense_30[0][0]                   \n",
      "====================================================================================================\n",
      "Total params: 3,692,971\n",
      "Trainable params: 3,692,971\n",
      "Non-trainable params: 0\n",
      "____________________________________________________________________________________________________\n"
     ]
    }
   ],
   "source": [
    "# Re-construct the network\n",
    "from keras.models import Sequential\n",
    "from keras.layers.core import Dense, Activation, Flatten\n",
    "from keras.layers.convolutional import Convolution2D\n",
    "\n",
    "model = Sequential()\n",
    "# Add a convolutional layer with 32 filters, a 3x3 kernel, and valid padding before the flatten layer.\n",
    "model.add(Convolution2D(32, 3, 3, input_shape=(32, 32, 3)))\n",
    "# Add a ReLU activation after the convolutional layer.\n",
    "model.add(Activation('relu'))\n",
    "model.add(Flatten())\n",
    "model.add(Dense(128))\n",
    "model.add(Activation('relu'))\n",
    "model.add(Dense(43))\n",
    "model.add(Activation('softmax'))\n",
    "print ('{} layers total'.format(len(model.layers)))\n",
    "model.summary()"
   ]
  },
  {
   "cell_type": "code",
   "execution_count": 239,
   "metadata": {},
   "outputs": [
    {
     "name": "stdout",
     "output_type": "stream",
     "text": [
      "Train on 31367 samples, validate on 7842 samples\n",
      "Epoch 1/2\n",
      "3s - loss: 1.1121 - acc: 0.7087 - val_loss: 0.5812 - val_acc: 0.7989\n",
      "Epoch 2/2\n",
      "2s - loss: 0.2820 - acc: 0.9309 - val_loss: 0.2712 - val_acc: 0.9241\n",
      "acc = 0.9308827748908088\n",
      "val_acc = 0.9241264983422596\n",
      "Keras layers tests passed.\n"
     ]
    }
   ],
   "source": [
    "# check Keras layers again\n",
    "\n",
    "check_layers([Convolution2D, Activation, Flatten, Dense, Activation, Dense, Activation], model.layers)\n",
    "\n",
    "assert model.layers[0].input_shape == (None, 32, 32, 3), 'First layer input shape is wrong, it should be (32, 32, 3)'\n",
    "assert model.layers[0].nb_filter == 32, 'Wrong number of filters, it should be 32'\n",
    "assert model.layers[0].nb_col == model.layers[0].nb_row == 3, 'Kernel size is wrong, it should be a 3x3'\n",
    "assert model.layers[0].border_mode == 'valid', 'Wrong padding, it should be valid'\n",
    "\n",
    "model.compile('adam', 'categorical_crossentropy', ['accuracy'])\n",
    "history = model.fit(X_normalized, y_one_hot, batch_size=128, nb_epoch=2, validation_split=0.2, verbose=2)\n",
    "assert(history.history['val_acc'][-1] > 0.91), \"The validation accuracy is: %.3f.  It should be greater than 0.91\" % history.history['val_acc'][-1]\n",
    "print('acc = {}'.format(history.history['acc'][-1]))\n",
    "print('val_acc = {}'.format(history.history['val_acc'][-1]))\n",
    "print('Keras layers tests passed.')"
   ]
  },
  {
   "cell_type": "code",
   "execution_count": 240,
   "metadata": {},
   "outputs": [
    {
     "name": "stdout",
     "output_type": "stream",
     "text": [
      "8 layers total\n",
      "____________________________________________________________________________________________________\n",
      "Layer (type)                     Output Shape          Param #     Connected to                     \n",
      "====================================================================================================\n",
      "convolution2d_11 (Convolution2D) (None, 30, 30, 32)    896         convolution2d_input_11[0][0]     \n",
      "____________________________________________________________________________________________________\n",
      "maxpooling2d_9 (MaxPooling2D)    (None, 15, 15, 32)    0           convolution2d_11[0][0]           \n",
      "____________________________________________________________________________________________________\n",
      "activation_41 (Activation)       (None, 15, 15, 32)    0           maxpooling2d_9[0][0]             \n",
      "____________________________________________________________________________________________________\n",
      "flatten_16 (Flatten)             (None, 7200)          0           activation_41[0][0]              \n",
      "____________________________________________________________________________________________________\n",
      "dense_31 (Dense)                 (None, 128)           921728      flatten_16[0][0]                 \n",
      "____________________________________________________________________________________________________\n",
      "activation_42 (Activation)       (None, 128)           0           dense_31[0][0]                   \n",
      "____________________________________________________________________________________________________\n",
      "dense_32 (Dense)                 (None, 43)            5547        activation_42[0][0]              \n",
      "____________________________________________________________________________________________________\n",
      "activation_43 (Activation)       (None, 43)            0           dense_32[0][0]                   \n",
      "====================================================================================================\n",
      "Total params: 928,171\n",
      "Trainable params: 928,171\n",
      "Non-trainable params: 0\n",
      "____________________________________________________________________________________________________\n"
     ]
    }
   ],
   "source": [
    "from keras.layers.pooling import MaxPooling2D\n",
    "model = Sequential()\n",
    "model.add(Convolution2D(32, 3, 3, input_shape=(32, 32, 3)))\n",
    "# Add a 2x2 max pooling layer following the convolutional layer.\n",
    "model.add(MaxPooling2D((2, 2)))\n",
    "model.add(Activation('relu'))\n",
    "model.add(Flatten())\n",
    "model.add(Dense(128))\n",
    "model.add(Activation('relu'))\n",
    "model.add(Dense(43))\n",
    "model.add(Activation('softmax'))\n",
    "print ('{} layers total'.format(len(model.layers)))\n",
    "model.summary()"
   ]
  },
  {
   "cell_type": "code",
   "execution_count": 241,
   "metadata": {},
   "outputs": [
    {
     "name": "stdout",
     "output_type": "stream",
     "text": [
      "Train on 31367 samples, validate on 7842 samples\n",
      "Epoch 1/2\n",
      "2s - loss: 1.4331 - acc: 0.6307 - val_loss: 0.6168 - val_acc: 0.8284\n",
      "Epoch 2/2\n",
      "2s - loss: 0.3935 - acc: 0.9061 - val_loss: 0.3210 - val_acc: 0.9158\n",
      "acc = 0.9061115184748303\n",
      "val_acc = 0.9158377966173021\n",
      "Keras layers tests passed.\n"
     ]
    }
   ],
   "source": [
    "\n",
    "check_layers([Convolution2D, MaxPooling2D, Activation, Flatten, Dense, Activation, Dense, Activation], model.layers)\n",
    "assert model.layers[1].pool_size == (2, 2), 'Second layer must be a max pool layer with pool size of 2x2'\n",
    "\n",
    "model.compile('adam', 'categorical_crossentropy', ['accuracy'])\n",
    "history = model.fit(X_normalized, y_one_hot, batch_size=128, nb_epoch=2, validation_split=0.2, verbose=2)\n",
    "assert(history.history['val_acc'][-1] > 0.91), \"The validation accuracy is: %.3f.  It should be greater than 0.91\" % history.history['val_acc'][-1]\n",
    "print('acc = {}'.format(history.history['acc'][-1]))\n",
    "print('val_acc = {}'.format(history.history['val_acc'][-1]))\n",
    "print('Keras layers tests passed.')"
   ]
  },
  {
   "cell_type": "code",
   "execution_count": 242,
   "metadata": {},
   "outputs": [
    {
     "name": "stdout",
     "output_type": "stream",
     "text": [
      "9 layers total\n",
      "____________________________________________________________________________________________________\n",
      "Layer (type)                     Output Shape          Param #     Connected to                     \n",
      "====================================================================================================\n",
      "convolution2d_12 (Convolution2D) (None, 30, 30, 32)    896         convolution2d_input_12[0][0]     \n",
      "____________________________________________________________________________________________________\n",
      "maxpooling2d_10 (MaxPooling2D)   (None, 15, 15, 32)    0           convolution2d_12[0][0]           \n",
      "____________________________________________________________________________________________________\n",
      "dropout_7 (Dropout)              (None, 15, 15, 32)    0           maxpooling2d_10[0][0]            \n",
      "____________________________________________________________________________________________________\n",
      "activation_44 (Activation)       (None, 15, 15, 32)    0           dropout_7[0][0]                  \n",
      "____________________________________________________________________________________________________\n",
      "flatten_17 (Flatten)             (None, 7200)          0           activation_44[0][0]              \n",
      "____________________________________________________________________________________________________\n",
      "dense_33 (Dense)                 (None, 128)           921728      flatten_17[0][0]                 \n",
      "____________________________________________________________________________________________________\n",
      "activation_45 (Activation)       (None, 128)           0           dense_33[0][0]                   \n",
      "____________________________________________________________________________________________________\n",
      "dense_34 (Dense)                 (None, 43)            5547        activation_45[0][0]              \n",
      "____________________________________________________________________________________________________\n",
      "activation_46 (Activation)       (None, 43)            0           dense_34[0][0]                   \n",
      "====================================================================================================\n",
      "Total params: 928,171\n",
      "Trainable params: 928,171\n",
      "Non-trainable params: 0\n",
      "____________________________________________________________________________________________________\n"
     ]
    }
   ],
   "source": [
    "from keras.layers.core import Dense, Activation, Flatten, Dropout\n",
    "\n",
    "model = Sequential()\n",
    "model.add(Convolution2D(32, 3, 3, input_shape=(32, 32, 3)))\n",
    "model.add(MaxPooling2D((2, 2)))\n",
    "# Add a dropout layer after the pooling layer. Set the dropout rate to 50%.\n",
    "model.add(Dropout(0.5))\n",
    "model.add(Activation('relu'))\n",
    "model.add(Flatten())\n",
    "model.add(Dense(128))\n",
    "model.add(Activation('relu'))\n",
    "model.add(Dense(43))\n",
    "model.add(Activation('softmax'))\n",
    "print ('{} layers total'.format(len(model.layers)))\n",
    "model.summary()"
   ]
  },
  {
   "cell_type": "code",
   "execution_count": 243,
   "metadata": {},
   "outputs": [
    {
     "name": "stdout",
     "output_type": "stream",
     "text": [
      "Train on 31367 samples, validate on 7842 samples\n",
      "Epoch 1/2\n",
      "2s - loss: 1.6507 - acc: 0.5625 - val_loss: 0.7672 - val_acc: 0.7893\n",
      "Epoch 2/2\n",
      "2s - loss: 0.5475 - acc: 0.8539 - val_loss: 0.3663 - val_acc: 0.9126\n",
      "acc = 0.8538910319914826\n",
      "val_acc = 0.9126498342411642\n",
      "Keras layers tests passed.\n"
     ]
    }
   ],
   "source": [
    "from keras.layers.core import Dense, Activation, Flatten, Dropout\n",
    "from keras.layers.convolutional import Convolution2D\n",
    "from keras.layers.pooling import MaxPooling2D\n",
    "\n",
    "check_layers([Convolution2D, MaxPooling2D, Dropout, Activation, Flatten, Dense, Activation, Dense, Activation], model.layers)\n",
    "assert model.layers[2].p == 0.5, 'Third layer should be a Dropout of 50%'\n",
    "\n",
    "model.compile('adam', 'categorical_crossentropy', ['accuracy'])\n",
    "history = model.fit(X_normalized, y_one_hot, batch_size=128, nb_epoch=2, validation_split=0.2, verbose=2)\n",
    "assert(history.history['val_acc'][-1] > 0.91), \"The validation accuracy is: %.3f.  It should be greater than 0.91\" % history.history['val_acc'][-1]\n",
    "print('acc = {}'.format(history.history['acc'][-1]))\n",
    "print('val_acc = {}'.format(history.history['val_acc'][-1]))\n",
    "print('Keras layers tests passed.')"
   ]
  },
  {
   "cell_type": "code",
   "execution_count": 244,
   "metadata": {},
   "outputs": [
    {
     "name": "stdout",
     "output_type": "stream",
     "text": [
      "____________________________________________________________________________________________________\n",
      "Layer (type)                     Output Shape          Param #     Connected to                     \n",
      "====================================================================================================\n",
      "convolution2d_13 (Convolution2D) (None, 30, 30, 32)    896         convolution2d_input_13[0][0]     \n",
      "____________________________________________________________________________________________________\n",
      "maxpooling2d_11 (MaxPooling2D)   (None, 15, 15, 32)    0           convolution2d_13[0][0]           \n",
      "____________________________________________________________________________________________________\n",
      "dropout_8 (Dropout)              (None, 15, 15, 32)    0           maxpooling2d_11[0][0]            \n",
      "____________________________________________________________________________________________________\n",
      "activation_47 (Activation)       (None, 15, 15, 32)    0           dropout_8[0][0]                  \n",
      "____________________________________________________________________________________________________\n",
      "flatten_18 (Flatten)             (None, 7200)          0           activation_47[0][0]              \n",
      "____________________________________________________________________________________________________\n",
      "dense_35 (Dense)                 (None, 128)           921728      flatten_18[0][0]                 \n",
      "____________________________________________________________________________________________________\n",
      "activation_48 (Activation)       (None, 128)           0           dense_35[0][0]                   \n",
      "____________________________________________________________________________________________________\n",
      "dense_36 (Dense)                 (None, 43)            5547        activation_48[0][0]              \n",
      "____________________________________________________________________________________________________\n",
      "activation_49 (Activation)       (None, 43)            0           dense_36[0][0]                   \n",
      "====================================================================================================\n",
      "Total params: 928,171\n",
      "Trainable params: 928,171\n",
      "Non-trainable params: 0\n",
      "____________________________________________________________________________________________________\n",
      "Train on 31367 samples, validate on 7842 samples\n",
      "Epoch 1/10\n",
      "2s - loss: 1.6040 - acc: 0.5714 - val_loss: 0.7219 - val_acc: 0.8008\n",
      "Epoch 2/10\n",
      "2s - loss: 0.5322 - acc: 0.8603 - val_loss: 0.3657 - val_acc: 0.9095\n",
      "Epoch 3/10\n",
      "2s - loss: 0.3197 - acc: 0.9188 - val_loss: 0.2593 - val_acc: 0.9385\n",
      "Epoch 4/10\n",
      "2s - loss: 0.2392 - acc: 0.9386 - val_loss: 0.1960 - val_acc: 0.9565\n",
      "Epoch 5/10\n",
      "2s - loss: 0.1902 - acc: 0.9506 - val_loss: 0.1713 - val_acc: 0.9611\n",
      "Epoch 6/10\n",
      "2s - loss: 0.1586 - acc: 0.9575 - val_loss: 0.1510 - val_acc: 0.9629\n",
      "Epoch 7/10\n",
      "2s - loss: 0.1336 - acc: 0.9655 - val_loss: 0.1203 - val_acc: 0.9735\n",
      "Epoch 8/10\n",
      "2s - loss: 0.1209 - acc: 0.9673 - val_loss: 0.1113 - val_acc: 0.9741\n",
      "Epoch 9/10\n",
      "2s - loss: 0.1062 - acc: 0.9722 - val_loss: 0.1046 - val_acc: 0.9727\n",
      "Epoch 10/10\n",
      "2s - loss: 0.1018 - acc: 0.9722 - val_loss: 0.0998 - val_acc: 0.9769\n"
     ]
    }
   ],
   "source": [
    "from keras.models import Sequential\n",
    "from keras.models import Sequential\n",
    "from keras.layers.core import Dense, Activation, Flatten, Dropout\n",
    "from keras.layers.convolutional import Convolution2D\n",
    "from keras.layers.pooling import MaxPooling2D\n",
    "\n",
    "model = Sequential()\n",
    "model.add(Convolution2D(32, 3, 3, input_shape=(32, 32, 3)))\n",
    "model.add(MaxPooling2D((2, 2)))\n",
    "model.add(Dropout(0.5))\n",
    "model.add(Activation('relu'))\n",
    "model.add(Flatten())\n",
    "model.add(Dense(128))\n",
    "model.add(Activation('relu'))\n",
    "model.add(Dense(43))\n",
    "model.add(Activation('softmax'))\n",
    "model.summary()\n",
    "\n",
    "# Compile and train the model\n",
    "model.compile('adam', 'categorical_crossentropy', ['accuracy'])\n",
    "history = model.fit(X_normalized, y_one_hot, batch_size=128, nb_epoch=10, validation_split=0.2, verbose=2)"
   ]
  },
  {
   "cell_type": "code",
   "execution_count": 245,
   "metadata": {},
   "outputs": [
    {
     "name": "stdout",
     "output_type": "stream",
     "text": [
      "12608/12630 [============================>.] - ETA: 0sloss: 0.4800616558968596\n",
      "acc: 0.901583531312497\n"
     ]
    }
   ],
   "source": [
    "with open('test.p', 'rb') as f:\n",
    "    data_test = pickle.load(f)\n",
    "\n",
    "X_test = data_test['features']\n",
    "y_test = data_test['labels']\n",
    "\n",
    "# TODO: Preprocess data & one-hot encode the labels\n",
    "X_normalized_test = normalize_grayscale(X_test)\n",
    "y_one_hot_test = label_binarizer.fit_transform(y_test)\n",
    "\n",
    "# TODO: Evaluate model on test data\n",
    "metrics = model.evaluate(X_normalized_test, y_one_hot_test)\n",
    "for metric_i in range(len(model.metrics_names)):\n",
    "    metric_name = model.metrics_names[metric_i]\n",
    "    metric_value = metrics[metric_i]\n",
    "    print('{}: {}'.format(metric_name, metric_value))"
   ]
  },
  {
   "cell_type": "code",
   "execution_count": null,
   "metadata": {
    "collapsed": true
   },
   "outputs": [],
   "source": []
  }
 ],
 "metadata": {
  "kernelspec": {
   "display_name": "Python 3",
   "language": "python",
   "name": "python3"
  },
  "language_info": {
   "codemirror_mode": {
    "name": "ipython",
    "version": 3
   },
   "file_extension": ".py",
   "mimetype": "text/x-python",
   "name": "python",
   "nbconvert_exporter": "python",
   "pygments_lexer": "ipython3",
   "version": "3.4.3"
  }
 },
 "nbformat": 4,
 "nbformat_minor": 2
}
